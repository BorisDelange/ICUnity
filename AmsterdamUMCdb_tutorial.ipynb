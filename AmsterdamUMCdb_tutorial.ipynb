{
  "nbformat": 4,
  "nbformat_minor": 0,
  "metadata": {
    "colab": {
      "name": "AmsterdamUMCdb_tutorial",
      "provenance": [],
      "collapsed_sections": []
    },
    "kernelspec": {
      "name": "python3",
      "display_name": "Python 3"
    }
  },
  "cells": [
    {
      "cell_type": "markdown",
      "metadata": {
        "id": "6fr_A5J1tVFQ",
        "colab_type": "text"
      },
      "source": [
        "Copyright 2018 Google Inc.\n",
        "\n",
        "Licensed under the Apache License, Version 2.0 (the \"License\"); you may not use this file except in compliance with the License. You may obtain a copy of the License at\n",
        "\n",
        "> https://www.apache.org/licenses/LICENSE-2.0\n",
        "\n",
        "Unless required by applicable law or agreed to in writing, software distributed under the License is distributed on an \"AS IS\" BASIS, WITHOUT WARRANTIES OR CONDITIONS OF ANY KIND, either express or implied. See the License for the specific language governing permissions and limitations under the License."
      ]
    },
    {
      "cell_type": "markdown",
      "metadata": {
        "id": "QT2sukPDtrWQ",
        "colab_type": "text"
      },
      "source": [
        "# Datathon Tutorial\n",
        "\n",
        "The aim of this tutorial is to get you familiarized with BigQuery to query/filter/aggregate/export data with Python.\n",
        "\n",
        "## Prerequisites\n",
        "\n",
        "You should already have had a valid Gmail account registered with the datathon organizers.\n",
        "  * If you do not have a Gmail account, you can create one at http://www.gmail.com. You need to notify datathon organizers to register your new account for data access.\n",
        "  * If you have not yet signed the data use agreement (DUA) sent by the organizers, please do so immediately to get access to the MIMIC-III dataset."
      ]
    },
    {
      "cell_type": "markdown",
      "metadata": {
        "id": "xks2nlrtt-um",
        "colab_type": "text"
      },
      "source": [
        "## Setup\n",
        "\n",
        "To be able to run the queries in this tutorial, you need to create a copy of this Colab notebook by clicking \"File\" > \"Save a copy in Drive...\" menu.\n",
        "You can share your copy with your teammates by clicking on the \"SHARE\" button on the top-right corner of your Colab notebook copy. Everyone with \"Edit\" permission is able to modify the notebook at the same time, so it is a great way for team collaboration. Before running any cell in this colab, please make sure there is a green check mark before \"CONNECTED\" on top right corner, if not, please click \"CONNECTED\" button to connect to a random backend.\n",
        "\n",
        "Now that you have done the initial setup, let us start playing with the data. First, you need to run some initialization code. You can run the following cell by clicking on the triangle button when you hover over the [ ] space on the top-left corner of the code cell below."
      ]
    },
    {
      "cell_type": "code",
      "metadata": {
        "id": "rS9g4-r7uohe",
        "colab_type": "code",
        "outputId": "883447c0-8155-46e7-ce7c-99e4d6880db7",
        "colab": {
          "base_uri": "https://localhost:8080/",
          "height": 63
        }
      },
      "source": [
        "# Import libraries\n",
        "import numpy as np\n",
        "import os\n",
        "import pandas as pd\n",
        "import matplotlib.pyplot as plt\n",
        "import matplotlib.patches as patches\n",
        "import matplotlib.path as path\n",
        "import tensorflow as tf\n",
        "\n",
        "# Below imports are used to print out pretty pandas dataframes\n",
        "from IPython.display import display, HTML\n",
        "\n",
        "# Imports for accessing Datathon data using Google BigQuery.\n",
        "from google.colab import auth\n",
        "from google.cloud import bigquery"
      ],
      "execution_count": 0,
      "outputs": [
        {
          "output_type": "display_data",
          "data": {
            "text/html": [
              "<p style=\"color: red;\">\n",
              "The default version of TensorFlow in Colab will soon switch to TensorFlow 2.x.<br>\n",
              "We recommend you <a href=\"https://www.tensorflow.org/guide/migrate\" target=\"_blank\">upgrade</a> now \n",
              "or ensure your notebook will continue to use TensorFlow 1.x via the <code>%tensorflow_version 1.x</code> magic:\n",
              "<a href=\"https://colab.research.google.com/notebooks/tensorflow_version.ipynb\" target=\"_blank\">more info</a>.</p>\n"
            ],
            "text/plain": [
              "<IPython.core.display.HTML object>"
            ]
          },
          "metadata": {
            "tags": []
          }
        }
      ]
    },
    {
      "cell_type": "markdown",
      "metadata": {
        "id": "rlP2b-PKvUMk",
        "colab_type": "text"
      },
      "source": [
        "Before running any queries using BigQuery, you need to first authenticate yourself by running the following cell. If you are running it for the first time, it will ask you to follow a link to log in using your Gmail account, and accept the data access requests to your profile. Once this is done, it will generate a string of verification code, which you should paste back to the cell below and press enter."
      ]
    },
    {
      "cell_type": "code",
      "metadata": {
        "id": "HDL3CjUKvddl",
        "colab_type": "code",
        "colab": {}
      },
      "source": [
        "auth.authenticate_user() "
      ],
      "execution_count": 0,
      "outputs": []
    },
    {
      "cell_type": "markdown",
      "metadata": {
        "id": "0qezUBvxH7_6",
        "colab_type": "text"
      },
      "source": [
        "The data-hosting project `amsterdamumcdb-data.amsterdamumcdb_v_1_0_1` has read-only access, as a result, you need to set a default project that you have BigQuery access to. A shared project should be created by the event organizers, and we will be using it throughout this tutorial.\n",
        "\n",
        "Note that during the datathon, all participants will be divided into teams and a Google Cloud project will be created for each team specifically. That project would be the preferred project to use. For now we'll stick with the shared project for the purpose of the tutorial.\n",
        "\n",
        "After datathon is finished, the shared project may either lock down access or be deleted, it's still possible to run queries from a project you own personally as long as you have access to the dataset hosting project.\n",
        "\n",
        "Change the variable project_id below to list the project you are using."
      ]
    },
    {
      "cell_type": "code",
      "metadata": {
        "id": "nx4ZDlJ6we9j",
        "colab_type": "code",
        "colab": {}
      },
      "source": [
        "project_id='milandaticu2020'\n",
        "os.environ[\"GOOGLE_CLOUD_PROJECT\"]=project_id"
      ],
      "execution_count": 0,
      "outputs": []
    },
    {
      "cell_type": "markdown",
      "metadata": {
        "id": "ZondovXiw-zq",
        "colab_type": "text"
      },
      "source": [
        "Let's define a few methods to wrap BigQuery operations, so that we don't have to write the configurations again and again."
      ]
    },
    {
      "cell_type": "code",
      "metadata": {
        "id": "DIbbCE3YxLdM",
        "colab_type": "code",
        "colab": {}
      },
      "source": [
        "# Read data from BigQuery into pandas dataframes.\n",
        "def run_query(query):\n",
        "  return pd.io.gbq.read_gbq(query, project_id=project_id, verbose=False, configuration={'query':{'useLegacySql': False}})"
      ],
      "execution_count": 0,
      "outputs": []
    },
    {
      "cell_type": "markdown",
      "metadata": {
        "id": "VDfGS-0VxjpC",
        "colab_type": "text"
      },
      "source": [
        "OK, that's it for setup, now let's get our hands on the AmsterdamUMC database data!"
      ]
    },
    {
      "cell_type": "markdown",
      "metadata": {
        "id": "7wh4aG6fRubd",
        "colab_type": "text"
      },
      "source": [
        "## Analysis\n",
        "\n",
        "Let's start with a simple analysis regarding the admission time of ICU patients to the AmsterdamUMC database\n"
      ]
    },
    {
      "cell_type": "code",
      "metadata": {
        "id": "0BKEaZ0mAS_a",
        "colab_type": "code",
        "outputId": "99890e19-5811-4279-fda4-d3ad3b975325",
        "colab": {
          "base_uri": "https://localhost:8080/",
          "height": 258
        }
      },
      "source": [
        "df = run_query('''\n",
        "SELECT  AD.patientID, \n",
        "        AD.admissionID,\n",
        "        AD.admittedat\n",
        "FROM `amsterdamumcdb-data.amsterdamumcdb_v_1_0_1.admissions` as AD \n",
        "ORDER BY AD.admissionid ASC\n",
        "LIMIT 10\n",
        "''')\n",
        "\n",
        "df.head()"
      ],
      "execution_count": 0,
      "outputs": [
        {
          "output_type": "stream",
          "text": [
            "/usr/local/lib/python3.6/dist-packages/pandas/io/gbq.py:176: FutureWarning: verbose is deprecated and will be removed in a future version. Set logging level in order to vary verbosity\n",
            "  **kwargs\n"
          ],
          "name": "stderr"
        },
        {
          "output_type": "execute_result",
          "data": {
            "text/html": [
              "<div>\n",
              "<style scoped>\n",
              "    .dataframe tbody tr th:only-of-type {\n",
              "        vertical-align: middle;\n",
              "    }\n",
              "\n",
              "    .dataframe tbody tr th {\n",
              "        vertical-align: top;\n",
              "    }\n",
              "\n",
              "    .dataframe thead th {\n",
              "        text-align: right;\n",
              "    }\n",
              "</style>\n",
              "<table border=\"1\" class=\"dataframe\">\n",
              "  <thead>\n",
              "    <tr style=\"text-align: right;\">\n",
              "      <th></th>\n",
              "      <th>patientID</th>\n",
              "      <th>admissionID</th>\n",
              "      <th>admittedat</th>\n",
              "    </tr>\n",
              "  </thead>\n",
              "  <tbody>\n",
              "    <tr>\n",
              "      <th>0</th>\n",
              "      <td>0</td>\n",
              "      <td>0</td>\n",
              "      <td>0</td>\n",
              "    </tr>\n",
              "    <tr>\n",
              "      <th>1</th>\n",
              "      <td>1</td>\n",
              "      <td>1</td>\n",
              "      <td>0</td>\n",
              "    </tr>\n",
              "    <tr>\n",
              "      <th>2</th>\n",
              "      <td>2</td>\n",
              "      <td>2</td>\n",
              "      <td>0</td>\n",
              "    </tr>\n",
              "    <tr>\n",
              "      <th>3</th>\n",
              "      <td>3</td>\n",
              "      <td>3</td>\n",
              "      <td>0</td>\n",
              "    </tr>\n",
              "    <tr>\n",
              "      <th>4</th>\n",
              "      <td>4</td>\n",
              "      <td>4</td>\n",
              "      <td>0</td>\n",
              "    </tr>\n",
              "  </tbody>\n",
              "</table>\n",
              "</div>"
            ],
            "text/plain": [
              "   patientID  admissionID  admittedat\n",
              "0          0            0           0\n",
              "1          1            1           0\n",
              "2          2            2           0\n",
              "3          3            3           0\n",
              "4          4            4           0"
            ]
          },
          "metadata": {
            "tags": []
          },
          "execution_count": 136
        }
      ]
    },
    {
      "cell_type": "markdown",
      "metadata": {
        "id": "cMj_ITPt1Wrp",
        "colab_type": "text"
      },
      "source": [
        "Real Admission Time\n",
        "Patients were often admitted to the ICU from the moment admission was 'expected'. That is, therefore, often earlier then actual admission time. Therefore, as a convention, the real admission time to the AmsterdamUMC db is set at the first measured heart frequency.\n",
        "\n",
        "The query below shows how to derive the real admission time (relative to the registered  admission time in the database.\n",
        "\n",
        "***PLEASE NOTE: measuredat columns are 'miliseconds' since admissiontime***\n"
      ]
    },
    {
      "cell_type": "code",
      "metadata": {
        "id": "vZZTlDAI1bEp",
        "colab_type": "code",
        "outputId": "2e924321-8cdc-49eb-bcf4-06f0cec9e838",
        "colab": {
          "base_uri": "https://localhost:8080/",
          "height": 258
        }
      },
      "source": [
        "df = run_query('''\n",
        "SELECT  NU.admissionid,\n",
        "        MIN (NU.measuredat) /1000 /3600 AS AdmissionTime_inHours \n",
        "        -- /1000 to turn from miliseconds to second and /3600 to transform from seconds to hours\n",
        "FROM `amsterdamumcdb-data.amsterdamumcdb_v_1_0_1.numericitems` as NU \n",
        "WHERE NU.itemid = 6640\n",
        "GROUP BY NU.admissionid\n",
        "ORDER BY NU.admissionid ASC\n",
        "\n",
        "''')\n",
        "df.head()"
      ],
      "execution_count": 0,
      "outputs": [
        {
          "output_type": "stream",
          "text": [
            "/usr/local/lib/python3.6/dist-packages/pandas/io/gbq.py:176: FutureWarning: verbose is deprecated and will be removed in a future version. Set logging level in order to vary verbosity\n",
            "  **kwargs\n"
          ],
          "name": "stderr"
        },
        {
          "output_type": "execute_result",
          "data": {
            "text/html": [
              "<div>\n",
              "<style scoped>\n",
              "    .dataframe tbody tr th:only-of-type {\n",
              "        vertical-align: middle;\n",
              "    }\n",
              "\n",
              "    .dataframe tbody tr th {\n",
              "        vertical-align: top;\n",
              "    }\n",
              "\n",
              "    .dataframe thead th {\n",
              "        text-align: right;\n",
              "    }\n",
              "</style>\n",
              "<table border=\"1\" class=\"dataframe\">\n",
              "  <thead>\n",
              "    <tr style=\"text-align: right;\">\n",
              "      <th></th>\n",
              "      <th>admissionid</th>\n",
              "      <th>AdmissionTime_inHours</th>\n",
              "    </tr>\n",
              "  </thead>\n",
              "  <tbody>\n",
              "    <tr>\n",
              "      <th>0</th>\n",
              "      <td>0</td>\n",
              "      <td>5.700000</td>\n",
              "    </tr>\n",
              "    <tr>\n",
              "      <th>1</th>\n",
              "      <td>1</td>\n",
              "      <td>0.833333</td>\n",
              "    </tr>\n",
              "    <tr>\n",
              "      <th>2</th>\n",
              "      <td>2</td>\n",
              "      <td>0.200000</td>\n",
              "    </tr>\n",
              "    <tr>\n",
              "      <th>3</th>\n",
              "      <td>3</td>\n",
              "      <td>1.900000</td>\n",
              "    </tr>\n",
              "    <tr>\n",
              "      <th>4</th>\n",
              "      <td>4</td>\n",
              "      <td>1.450000</td>\n",
              "    </tr>\n",
              "  </tbody>\n",
              "</table>\n",
              "</div>"
            ],
            "text/plain": [
              "   admissionid  AdmissionTime_inHours\n",
              "0            0               5.700000\n",
              "1            1               0.833333\n",
              "2            2               0.200000\n",
              "3            3               1.900000\n",
              "4            4               1.450000"
            ]
          },
          "metadata": {
            "tags": []
          },
          "execution_count": 137
        }
      ]
    },
    {
      "cell_type": "markdown",
      "metadata": {
        "id": "iU9SnRTU_rBF",
        "colab_type": "text"
      },
      "source": [
        "SAME AS ABOVE INCLUDING A JOIN WITH THE ADMISSION TABLE"
      ]
    },
    {
      "cell_type": "code",
      "metadata": {
        "id": "T8H3025D_r_0",
        "colab_type": "code",
        "outputId": "2e9e847a-2622-4d61-89e1-b2c1b949ccc2",
        "colab": {
          "base_uri": "https://localhost:8080/",
          "height": 258
        }
      },
      "source": [
        "df = run_query('''\n",
        "SELECT   AD.PatientID\n",
        "\t\t    ,NU.admissionid\n",
        "        ,MIN (NU.measuredat) /1000 /3600 AS AdmissionTime_inHours \n",
        "FROM `amsterdamumcdb-data.amsterdamumcdb_v_1_0_1.numericitems` as NU \n",
        "LEFT JOIN `amsterdamumcdb-data.amsterdamumcdb_v_1_0_1.admissions` as AD\n",
        "ON NU.admissionid = AD.admissionid\n",
        "WHERE NU.itemid = 6640 \n",
        "GROUP BY AD.patientid, NU.admissionid\n",
        "ORDER BY AD.patientid, NU.admissionid ASC\n",
        "''')\n",
        "df.head()"
      ],
      "execution_count": 0,
      "outputs": [
        {
          "output_type": "stream",
          "text": [
            "/usr/local/lib/python3.6/dist-packages/pandas/io/gbq.py:176: FutureWarning: verbose is deprecated and will be removed in a future version. Set logging level in order to vary verbosity\n",
            "  **kwargs\n"
          ],
          "name": "stderr"
        },
        {
          "output_type": "execute_result",
          "data": {
            "text/html": [
              "<div>\n",
              "<style scoped>\n",
              "    .dataframe tbody tr th:only-of-type {\n",
              "        vertical-align: middle;\n",
              "    }\n",
              "\n",
              "    .dataframe tbody tr th {\n",
              "        vertical-align: top;\n",
              "    }\n",
              "\n",
              "    .dataframe thead th {\n",
              "        text-align: right;\n",
              "    }\n",
              "</style>\n",
              "<table border=\"1\" class=\"dataframe\">\n",
              "  <thead>\n",
              "    <tr style=\"text-align: right;\">\n",
              "      <th></th>\n",
              "      <th>PatientID</th>\n",
              "      <th>admissionid</th>\n",
              "      <th>AdmissionTime_inHours</th>\n",
              "    </tr>\n",
              "  </thead>\n",
              "  <tbody>\n",
              "    <tr>\n",
              "      <th>0</th>\n",
              "      <td>0</td>\n",
              "      <td>0</td>\n",
              "      <td>5.700000</td>\n",
              "    </tr>\n",
              "    <tr>\n",
              "      <th>1</th>\n",
              "      <td>1</td>\n",
              "      <td>1</td>\n",
              "      <td>0.833333</td>\n",
              "    </tr>\n",
              "    <tr>\n",
              "      <th>2</th>\n",
              "      <td>2</td>\n",
              "      <td>2</td>\n",
              "      <td>0.200000</td>\n",
              "    </tr>\n",
              "    <tr>\n",
              "      <th>3</th>\n",
              "      <td>3</td>\n",
              "      <td>3</td>\n",
              "      <td>1.900000</td>\n",
              "    </tr>\n",
              "    <tr>\n",
              "      <th>4</th>\n",
              "      <td>4</td>\n",
              "      <td>4</td>\n",
              "      <td>1.450000</td>\n",
              "    </tr>\n",
              "  </tbody>\n",
              "</table>\n",
              "</div>"
            ],
            "text/plain": [
              "   PatientID  admissionid  AdmissionTime_inHours\n",
              "0          0            0               5.700000\n",
              "1          1            1               0.833333\n",
              "2          2            2               0.200000\n",
              "3          3            3               1.900000\n",
              "4          4            4               1.450000"
            ]
          },
          "metadata": {
            "tags": []
          },
          "execution_count": 138
        }
      ]
    },
    {
      "cell_type": "code",
      "metadata": {
        "id": "oVuJu8YGSpe1",
        "colab_type": "code",
        "outputId": "81c958f1-9f4e-43e9-8e0b-46399da0bf6e",
        "colab": {
          "base_uri": "https://localhost:8080/",
          "height": 258
        }
      },
      "source": [
        "df = run_query('''\n",
        "SELECT itemid, item, count(itemid) as count\n",
        "    FROM `amsterdamumcdb-data.amsterdamumcdb_v_1_0_1.numericitems`\n",
        "    as unique_items_table\n",
        "    WHERE islabresult = 1\n",
        "    group by itemid, item\n",
        "    order by count(itemid) DESC\n",
        "    limit 100\n",
        "''')\n",
        "df.head(5)"
      ],
      "execution_count": 0,
      "outputs": [
        {
          "output_type": "stream",
          "text": [
            "/usr/local/lib/python3.6/dist-packages/pandas/io/gbq.py:176: FutureWarning: verbose is deprecated and will be removed in a future version. Set logging level in order to vary verbosity\n",
            "  **kwargs\n"
          ],
          "name": "stderr"
        },
        {
          "output_type": "execute_result",
          "data": {
            "text/html": [
              "<div>\n",
              "<style scoped>\n",
              "    .dataframe tbody tr th:only-of-type {\n",
              "        vertical-align: middle;\n",
              "    }\n",
              "\n",
              "    .dataframe tbody tr th {\n",
              "        vertical-align: top;\n",
              "    }\n",
              "\n",
              "    .dataframe thead th {\n",
              "        text-align: right;\n",
              "    }\n",
              "</style>\n",
              "<table border=\"1\" class=\"dataframe\">\n",
              "  <thead>\n",
              "    <tr style=\"text-align: right;\">\n",
              "      <th></th>\n",
              "      <th>itemid</th>\n",
              "      <th>item</th>\n",
              "      <th>count</th>\n",
              "    </tr>\n",
              "  </thead>\n",
              "  <tbody>\n",
              "    <tr>\n",
              "      <th>0</th>\n",
              "      <td>9947</td>\n",
              "      <td>Glucose (bloed)</td>\n",
              "      <td>825213</td>\n",
              "    </tr>\n",
              "    <tr>\n",
              "      <th>1</th>\n",
              "      <td>9990</td>\n",
              "      <td>pCO2 (bloed)</td>\n",
              "      <td>663145</td>\n",
              "    </tr>\n",
              "    <tr>\n",
              "      <th>2</th>\n",
              "      <td>12310</td>\n",
              "      <td>pH (bloed)</td>\n",
              "      <td>663115</td>\n",
              "    </tr>\n",
              "    <tr>\n",
              "      <th>3</th>\n",
              "      <td>9992</td>\n",
              "      <td>Act.HCO3 (bloed)</td>\n",
              "      <td>660773</td>\n",
              "    </tr>\n",
              "    <tr>\n",
              "      <th>4</th>\n",
              "      <td>9994</td>\n",
              "      <td>B.E. (bloed)</td>\n",
              "      <td>657978</td>\n",
              "    </tr>\n",
              "  </tbody>\n",
              "</table>\n",
              "</div>"
            ],
            "text/plain": [
              "   itemid              item   count\n",
              "0    9947   Glucose (bloed)  825213\n",
              "1    9990      pCO2 (bloed)  663145\n",
              "2   12310        pH (bloed)  663115\n",
              "3    9992  Act.HCO3 (bloed)  660773\n",
              "4    9994      B.E. (bloed)  657978"
            ]
          },
          "metadata": {
            "tags": []
          },
          "execution_count": 139
        }
      ]
    },
    {
      "cell_type": "markdown",
      "metadata": {
        "id": "jfT3GhyYXISP",
        "colab_type": "text"
      },
      "source": [
        "## Begin MIMIC-III queries\n",
        "### Map through `LEVEL1' variables of the *MIMIC-III Benchmark* paper"
      ]
    },
    {
      "cell_type": "code",
      "metadata": {
        "id": "iOIyqNDqWR4A",
        "colab_type": "code",
        "colab": {}
      },
      "source": [
        "itemid_to_variable = pd.read_csv('https://raw.githubusercontent.com/YerevaNN/mimic3-benchmarks/master/mimic3benchmark/resources/itemid_to_variable_map.csv')\n",
        "itemid_to_variable = itemid_to_variable.loc[itemid_to_variable['LEVEL2'].notnull()]\n",
        "def get_ids_string(itemid_to_variable, table):\n",
        "    ids = list(itemid_to_variable.loc[itemid_to_variable['LINKSTO'] == table, 'ITEMID'].values)\n",
        "    ids = [str(i) for i in ids]\n",
        "    ids_string = '(' + ', '.join(ids)[:-1] + ')'\n",
        "    return ids_string\n",
        "lab_ids = get_ids_string(itemid_to_variable, 'labevents')\n",
        "chartevents_ids = get_ids_string(itemid_to_variable, 'chartevents')"
      ],
      "execution_count": 0,
      "outputs": []
    },
    {
      "cell_type": "code",
      "metadata": {
        "id": "VCH17ccOWddT",
        "colab_type": "code",
        "outputId": "adb62719-81e4-4e28-9e0c-62b706ca191a",
        "colab": {
          "base_uri": "https://localhost:8080/",
          "height": 238
        }
      },
      "source": [
        "# takes a long time if the limit is too large\n",
        "limit = '50000'\n",
        "labevents_mimic = run_query(\"select subject_id, hadm_id, itemid, charttime, value, valuenum, valueuom from `physionet-data.mimiciii_clinical.labevents` where itemid in {} limit {};\".format(lab_ids, limit))\n",
        "# chartevents_mimic = run_query(\"select subject_id, hadm_id, itemid, icustay_id, charttime, value, valuenum, valueuom from `physionet-data.mimiciii_clinical.chartevents` where itemid in {} limit {};\".format(chartevents_ids, limit))\n",
        "labevents_mimic.head()"
      ],
      "execution_count": 0,
      "outputs": [
        {
          "output_type": "stream",
          "text": [
            "/usr/local/lib/python3.6/dist-packages/pandas/io/gbq.py:176: FutureWarning: verbose is deprecated and will be removed in a future version. Set logging level in order to vary verbosity\n",
            "  **kwargs\n"
          ],
          "name": "stderr"
        },
        {
          "output_type": "execute_result",
          "data": {
            "text/html": [
              "<div>\n",
              "<style scoped>\n",
              "    .dataframe tbody tr th:only-of-type {\n",
              "        vertical-align: middle;\n",
              "    }\n",
              "\n",
              "    .dataframe tbody tr th {\n",
              "        vertical-align: top;\n",
              "    }\n",
              "\n",
              "    .dataframe thead th {\n",
              "        text-align: right;\n",
              "    }\n",
              "</style>\n",
              "<table border=\"1\" class=\"dataframe\">\n",
              "  <thead>\n",
              "    <tr style=\"text-align: right;\">\n",
              "      <th></th>\n",
              "      <th>subject_id</th>\n",
              "      <th>hadm_id</th>\n",
              "      <th>itemid</th>\n",
              "      <th>charttime</th>\n",
              "      <th>value</th>\n",
              "      <th>valuenum</th>\n",
              "      <th>valueuom</th>\n",
              "    </tr>\n",
              "  </thead>\n",
              "  <tbody>\n",
              "    <tr>\n",
              "      <th>0</th>\n",
              "      <td>871</td>\n",
              "      <td>141369.0</td>\n",
              "      <td>51127</td>\n",
              "      <td>2125-05-07 14:42:00</td>\n",
              "      <td>1750</td>\n",
              "      <td>1750.0</td>\n",
              "      <td>#/CU MM</td>\n",
              "    </tr>\n",
              "    <tr>\n",
              "      <th>1</th>\n",
              "      <td>897</td>\n",
              "      <td>NaN</td>\n",
              "      <td>51094</td>\n",
              "      <td>2200-11-19 16:28:00</td>\n",
              "      <td>6</td>\n",
              "      <td>6.0</td>\n",
              "      <td>None</td>\n",
              "    </tr>\n",
              "    <tr>\n",
              "      <th>2</th>\n",
              "      <td>2280</td>\n",
              "      <td>146949.0</td>\n",
              "      <td>50835</td>\n",
              "      <td>2133-12-20 17:23:00</td>\n",
              "      <td>1.4</td>\n",
              "      <td>1.4</td>\n",
              "      <td>g/dL</td>\n",
              "    </tr>\n",
              "    <tr>\n",
              "      <th>3</th>\n",
              "      <td>2614</td>\n",
              "      <td>142942.0</td>\n",
              "      <td>51355</td>\n",
              "      <td>2154-05-02 12:43:00</td>\n",
              "      <td>8</td>\n",
              "      <td>8.0</td>\n",
              "      <td>%</td>\n",
              "    </tr>\n",
              "    <tr>\n",
              "      <th>4</th>\n",
              "      <td>3113</td>\n",
              "      <td>115820.0</td>\n",
              "      <td>51355</td>\n",
              "      <td>2148-04-21 02:30:00</td>\n",
              "      <td>41</td>\n",
              "      <td>41.0</td>\n",
              "      <td>%</td>\n",
              "    </tr>\n",
              "  </tbody>\n",
              "</table>\n",
              "</div>"
            ],
            "text/plain": [
              "   subject_id   hadm_id  itemid           charttime value  valuenum valueuom\n",
              "0         871  141369.0   51127 2125-05-07 14:42:00  1750    1750.0  #/CU MM\n",
              "1         897       NaN   51094 2200-11-19 16:28:00     6       6.0     None\n",
              "2        2280  146949.0   50835 2133-12-20 17:23:00   1.4       1.4     g/dL\n",
              "3        2614  142942.0   51355 2154-05-02 12:43:00     8       8.0        %\n",
              "4        3113  115820.0   51355 2148-04-21 02:30:00    41      41.0        %"
            ]
          },
          "metadata": {
            "tags": []
          },
          "execution_count": 6
        }
      ]
    },
    {
      "cell_type": "code",
      "metadata": {
        "id": "hcwa8NXQWd_e",
        "colab_type": "code",
        "colab": {}
      },
      "source": [
        "itemid_to_level1_map = itemid_to_variable.set_index('ITEMID')['LEVEL1'].to_dict()\n",
        "labevents_mimic['clean_label'] = labevents_mimic['itemid'].map(itemid_to_level1_map)\n",
        "# chartevents_mimic['clean_label'] = chartevents_mimic['itemid'].map(itemid_to_level1_map)"
      ],
      "execution_count": 0,
      "outputs": []
    },
    {
      "cell_type": "markdown",
      "metadata": {
        "id": "I5beURXkW_FP",
        "colab_type": "text"
      },
      "source": [
        "## AmsterdamUCB queries"
      ]
    },
    {
      "cell_type": "code",
      "metadata": {
        "id": "cln9VxtHW-U3",
        "colab_type": "code",
        "outputId": "8f4b12bf-875e-4df5-9a98-3acaad128370",
        "colab": {
          "base_uri": "https://localhost:8080/",
          "height": 768
        }
      },
      "source": [
        "df1 = pd.read_csv('https://raw.githubusercontent.com/Luca05/ICUnity/master/ICV_itemid_to_variable_map.csv',\n",
        "  sep=';')\n",
        "df1.head()\n",
        "ids = list(df1.parameterid)\n",
        "ids = [str(i) for i in ids]\n",
        "ids_string = '(' + ', '.join(ids)[:-1] + ')'\n",
        "print(ids_string)\n",
        "dutch_labels = df1['LEVEL1'].unique()\n",
        "query = 'SELECT itemid, item, value, islabresult FROM `amsterdamumcdb-data.amsterdamumcdb_v_1_0_1.numericitems` as NU WHERE itemid in {} and islabresult = 1 limit {}'.format(ids_string, 50000)\n",
        "df = run_query(query)\n",
        "df.shape\n",
        "df.head(5)\n",
        "labevents_icv = df1.merge(df, left_on='parameterid', right_on='itemid')"
      ],
      "execution_count": 0,
      "outputs": [
        {
          "output_type": "stream",
          "text": [
            "(11893, 11894, 11944, 11978, 11986, 11990, 11998, 12071, 12266, 12279, 12310, 12311, 12442, 13058, 13059, 13060, 13061, 13062, 13063, 13952, 16110, 17982, 6640, 6641, 6642, 6643, 6678, 6679, 6699, 6709, 6789, 6801, 6807, 6810, 6817, 6819, 6850, 8621, 8658, 8659, 8662, 8842, 8843, 8873, 8915, 9558, 9559, 9560, 9561, 9653, 9924, 9927, 9930, 9933, 9935, 9941, 9943, 9945, 9947, 9952, 9960, 9964, 9965, 9975, 9990, 9992, 9993, 9994, 9995, 9996, 10053, 10079, 10267, 10286, 11425, 1154)\n"
          ],
          "name": "stdout"
        },
        {
          "output_type": "stream",
          "text": [
            "/usr/local/lib/python3.6/dist-packages/pandas/io/gbq.py:176: FutureWarning: verbose is deprecated and will be removed in a future version. Set logging level in order to vary verbosity\n",
            "  **kwargs\n"
          ],
          "name": "stderr"
        },
        {
          "output_type": "error",
          "ename": "GenericGBQException",
          "evalue": "ignored",
          "traceback": [
            "\u001b[0;31m---------------------------------------------------------------------------\u001b[0m",
            "\u001b[0;31mForbidden\u001b[0m                                 Traceback (most recent call last)",
            "\u001b[0;32m/usr/local/lib/python3.6/dist-packages/pandas_gbq/gbq.py\u001b[0m in \u001b[0;36mrun_query\u001b[0;34m(self, query, **kwargs)\u001b[0m\n\u001b[1;32m    529\u001b[0m         \u001b[0;32mtry\u001b[0m\u001b[0;34m:\u001b[0m\u001b[0;34m\u001b[0m\u001b[0;34m\u001b[0m\u001b[0m\n\u001b[0;32m--> 530\u001b[0;31m             \u001b[0mrows_iter\u001b[0m \u001b[0;34m=\u001b[0m \u001b[0mquery_reply\u001b[0m\u001b[0;34m.\u001b[0m\u001b[0mresult\u001b[0m\u001b[0;34m(\u001b[0m\u001b[0;34m)\u001b[0m\u001b[0;34m\u001b[0m\u001b[0;34m\u001b[0m\u001b[0m\n\u001b[0m\u001b[1;32m    531\u001b[0m         \u001b[0;32mexcept\u001b[0m \u001b[0mself\u001b[0m\u001b[0;34m.\u001b[0m\u001b[0mhttp_error\u001b[0m \u001b[0;32mas\u001b[0m \u001b[0mex\u001b[0m\u001b[0;34m:\u001b[0m\u001b[0;34m\u001b[0m\u001b[0;34m\u001b[0m\u001b[0m\n",
            "\u001b[0;32m/usr/local/lib/python3.6/dist-packages/google/cloud/bigquery/job.py\u001b[0m in \u001b[0;36mresult\u001b[0;34m(self, timeout, page_size, retry, max_results)\u001b[0m\n\u001b[1;32m   2973\u001b[0m         \u001b[0;32mtry\u001b[0m\u001b[0;34m:\u001b[0m\u001b[0;34m\u001b[0m\u001b[0;34m\u001b[0m\u001b[0m\n\u001b[0;32m-> 2974\u001b[0;31m             \u001b[0msuper\u001b[0m\u001b[0;34m(\u001b[0m\u001b[0mQueryJob\u001b[0m\u001b[0;34m,\u001b[0m \u001b[0mself\u001b[0m\u001b[0;34m)\u001b[0m\u001b[0;34m.\u001b[0m\u001b[0mresult\u001b[0m\u001b[0;34m(\u001b[0m\u001b[0mtimeout\u001b[0m\u001b[0;34m=\u001b[0m\u001b[0mtimeout\u001b[0m\u001b[0;34m)\u001b[0m\u001b[0;34m\u001b[0m\u001b[0;34m\u001b[0m\u001b[0m\n\u001b[0m\u001b[1;32m   2975\u001b[0m \u001b[0;34m\u001b[0m\u001b[0m\n",
            "\u001b[0;32m/usr/local/lib/python3.6/dist-packages/google/cloud/bigquery/job.py\u001b[0m in \u001b[0;36mresult\u001b[0;34m(self, timeout, retry)\u001b[0m\n\u001b[1;32m    767\u001b[0m         \u001b[0;31m# TODO: modify PollingFuture so it can pass a retry argument to done().\u001b[0m\u001b[0;34m\u001b[0m\u001b[0;34m\u001b[0m\u001b[0;34m\u001b[0m\u001b[0m\n\u001b[0;32m--> 768\u001b[0;31m         \u001b[0;32mreturn\u001b[0m \u001b[0msuper\u001b[0m\u001b[0;34m(\u001b[0m\u001b[0m_AsyncJob\u001b[0m\u001b[0;34m,\u001b[0m \u001b[0mself\u001b[0m\u001b[0;34m)\u001b[0m\u001b[0;34m.\u001b[0m\u001b[0mresult\u001b[0m\u001b[0;34m(\u001b[0m\u001b[0mtimeout\u001b[0m\u001b[0;34m=\u001b[0m\u001b[0mtimeout\u001b[0m\u001b[0;34m)\u001b[0m\u001b[0;34m\u001b[0m\u001b[0;34m\u001b[0m\u001b[0m\n\u001b[0m\u001b[1;32m    769\u001b[0m \u001b[0;34m\u001b[0m\u001b[0m\n",
            "\u001b[0;32m/usr/local/lib/python3.6/dist-packages/google/api_core/future/polling.py\u001b[0m in \u001b[0;36mresult\u001b[0;34m(self, timeout)\u001b[0m\n\u001b[1;32m    126\u001b[0m             \u001b[0;31m# Pylint doesn't recognize that this is valid in this case.\u001b[0m\u001b[0;34m\u001b[0m\u001b[0;34m\u001b[0m\u001b[0;34m\u001b[0m\u001b[0m\n\u001b[0;32m--> 127\u001b[0;31m             \u001b[0;32mraise\u001b[0m \u001b[0mself\u001b[0m\u001b[0;34m.\u001b[0m\u001b[0m_exception\u001b[0m\u001b[0;34m\u001b[0m\u001b[0;34m\u001b[0m\u001b[0m\n\u001b[0m\u001b[1;32m    128\u001b[0m \u001b[0;34m\u001b[0m\u001b[0m\n",
            "\u001b[0;31mForbidden\u001b[0m: 403 Access Denied: Table amsterdamumcdb-data:amsterdamumcdb_v_1_0_1.numericitems: User does not have permission to query table amsterdamumcdb-data:amsterdamumcdb_v_1_0_1.numericitems.\n\n(job ID: 8ac9f318-5d23-4f1a-97c5-6152ca20e676)\n\n                                                                                                                                                                                                                                                                                                                   -----Query Job SQL Follows-----                                                                                                                                                                                                                                                                                                                   \n\n    |    .    |    .    |    .    |    .    |    .    |    .    |    .    |    .    |    .    |    .    |    .    |    .    |    .    |    .    |    .    |    .    |    .    |    .    |    .    |    .    |    .    |    .    |    .    |    .    |    .    |    .    |    .    |    .    |    .    |    .    |    .    |    .    |    .    |    .    |    .    |    .    |    .    |    .    |    .    |    .    |    .    |    .    |    .    |    .    |    .    |    .    |    .    |    .    |    .    |    .    |    .    |    .    |    .    |    .    |    .    |    .    |    .    |    .    |    .    |    .    |    .    |    .    |    .    |    .    |\n   1:SELECT itemid, item, value, islabresult FROM `amsterdamumcdb-data.amsterdamumcdb_v_1_0_1.numericitems` as NU WHERE itemid in (11893, 11894, 11944, 11978, 11986, 11990, 11998, 12071, 12266, 12279, 12310, 12311, 12442, 13058, 13059, 13060, 13061, 13062, 13063, 13952, 16110, 17982, 6640, 6641, 6642, 6643, 6678, 6679, 6699, 6709, 6789, 6801, 6807, 6810, 6817, 6819, 6850, 8621, 8658, 8659, 8662, 8842, 8843, 8873, 8915, 9558, 9559, 9560, 9561, 9653, 9924, 9927, 9930, 9933, 9935, 9941, 9943, 9945, 9947, 9952, 9960, 9964, 9965, 9975, 9990, 9992, 9993, 9994, 9995, 9996, 10053, 10079, 10267, 10286, 11425, 1154) and islabresult = 1 limit 50000\n    |    .    |    .    |    .    |    .    |    .    |    .    |    .    |    .    |    .    |    .    |    .    |    .    |    .    |    .    |    .    |    .    |    .    |    .    |    .    |    .    |    .    |    .    |    .    |    .    |    .    |    .    |    .    |    .    |    .    |    .    |    .    |    .    |    .    |    .    |    .    |    .    |    .    |    .    |    .    |    .    |    .    |    .    |    .    |    .    |    .    |    .    |    .    |    .    |    .    |    .    |    .    |    .    |    .    |    .    |    .    |    .    |    .    |    .    |    .    |    .    |    .    |    .    |    .    |    .    |",
            "\nDuring handling of the above exception, another exception occurred:\n",
            "\u001b[0;31mGenericGBQException\u001b[0m                       Traceback (most recent call last)",
            "\u001b[0;32m<ipython-input-8-6d0dd6161790>\u001b[0m in \u001b[0;36m<module>\u001b[0;34m()\u001b[0m\n\u001b[1;32m      8\u001b[0m \u001b[0mdutch_labels\u001b[0m \u001b[0;34m=\u001b[0m \u001b[0mdf1\u001b[0m\u001b[0;34m[\u001b[0m\u001b[0;34m'LEVEL1'\u001b[0m\u001b[0;34m]\u001b[0m\u001b[0;34m.\u001b[0m\u001b[0munique\u001b[0m\u001b[0;34m(\u001b[0m\u001b[0;34m)\u001b[0m\u001b[0;34m\u001b[0m\u001b[0;34m\u001b[0m\u001b[0m\n\u001b[1;32m      9\u001b[0m \u001b[0mquery\u001b[0m \u001b[0;34m=\u001b[0m \u001b[0;34m'SELECT itemid, item, value, islabresult FROM `amsterdamumcdb-data.amsterdamumcdb_v_1_0_1.numericitems` as NU WHERE itemid in {} and islabresult = 1 limit {}'\u001b[0m\u001b[0;34m.\u001b[0m\u001b[0mformat\u001b[0m\u001b[0;34m(\u001b[0m\u001b[0mids_string\u001b[0m\u001b[0;34m,\u001b[0m \u001b[0;36m50000\u001b[0m\u001b[0;34m)\u001b[0m\u001b[0;34m\u001b[0m\u001b[0;34m\u001b[0m\u001b[0m\n\u001b[0;32m---> 10\u001b[0;31m \u001b[0mdf\u001b[0m \u001b[0;34m=\u001b[0m \u001b[0mrun_query\u001b[0m\u001b[0;34m(\u001b[0m\u001b[0mquery\u001b[0m\u001b[0;34m)\u001b[0m\u001b[0;34m\u001b[0m\u001b[0;34m\u001b[0m\u001b[0m\n\u001b[0m\u001b[1;32m     11\u001b[0m \u001b[0mdf\u001b[0m\u001b[0;34m.\u001b[0m\u001b[0mshape\u001b[0m\u001b[0;34m\u001b[0m\u001b[0;34m\u001b[0m\u001b[0m\n\u001b[1;32m     12\u001b[0m \u001b[0mdf\u001b[0m\u001b[0;34m.\u001b[0m\u001b[0mhead\u001b[0m\u001b[0;34m(\u001b[0m\u001b[0;36m5\u001b[0m\u001b[0;34m)\u001b[0m\u001b[0;34m\u001b[0m\u001b[0;34m\u001b[0m\u001b[0m\n",
            "\u001b[0;32m<ipython-input-4-f0a6a74664ff>\u001b[0m in \u001b[0;36mrun_query\u001b[0;34m(query)\u001b[0m\n\u001b[1;32m      1\u001b[0m \u001b[0;32mdef\u001b[0m \u001b[0mrun_query\u001b[0m\u001b[0;34m(\u001b[0m\u001b[0mquery\u001b[0m\u001b[0;34m)\u001b[0m\u001b[0;34m:\u001b[0m\u001b[0;34m\u001b[0m\u001b[0;34m\u001b[0m\u001b[0m\n\u001b[0;32m----> 2\u001b[0;31m   \u001b[0;32mreturn\u001b[0m \u001b[0mpd\u001b[0m\u001b[0;34m.\u001b[0m\u001b[0mio\u001b[0m\u001b[0;34m.\u001b[0m\u001b[0mgbq\u001b[0m\u001b[0;34m.\u001b[0m\u001b[0mread_gbq\u001b[0m\u001b[0;34m(\u001b[0m\u001b[0mquery\u001b[0m\u001b[0;34m,\u001b[0m \u001b[0mproject_id\u001b[0m\u001b[0;34m=\u001b[0m\u001b[0mproject_id\u001b[0m\u001b[0;34m,\u001b[0m \u001b[0mverbose\u001b[0m\u001b[0;34m=\u001b[0m\u001b[0;32mFalse\u001b[0m\u001b[0;34m,\u001b[0m \u001b[0mconfiguration\u001b[0m\u001b[0;34m=\u001b[0m\u001b[0;34m{\u001b[0m\u001b[0;34m'query'\u001b[0m\u001b[0;34m:\u001b[0m\u001b[0;34m{\u001b[0m\u001b[0;34m'useLegacySql'\u001b[0m\u001b[0;34m:\u001b[0m \u001b[0;32mFalse\u001b[0m\u001b[0;34m}\u001b[0m\u001b[0;34m}\u001b[0m\u001b[0;34m)\u001b[0m\u001b[0;34m\u001b[0m\u001b[0;34m\u001b[0m\u001b[0m\n\u001b[0m",
            "\u001b[0;32m/usr/local/lib/python3.6/dist-packages/pandas/io/gbq.py\u001b[0m in \u001b[0;36mread_gbq\u001b[0;34m(query, project_id, index_col, col_order, reauth, auth_local_webserver, dialect, location, configuration, credentials, use_bqstorage_api, private_key, verbose)\u001b[0m\n\u001b[1;32m    174\u001b[0m         \u001b[0mconfiguration\u001b[0m\u001b[0;34m=\u001b[0m\u001b[0mconfiguration\u001b[0m\u001b[0;34m,\u001b[0m\u001b[0;34m\u001b[0m\u001b[0;34m\u001b[0m\u001b[0m\n\u001b[1;32m    175\u001b[0m         \u001b[0mcredentials\u001b[0m\u001b[0;34m=\u001b[0m\u001b[0mcredentials\u001b[0m\u001b[0;34m,\u001b[0m\u001b[0;34m\u001b[0m\u001b[0;34m\u001b[0m\u001b[0m\n\u001b[0;32m--> 176\u001b[0;31m         \u001b[0;34m**\u001b[0m\u001b[0mkwargs\u001b[0m\u001b[0;34m\u001b[0m\u001b[0;34m\u001b[0m\u001b[0m\n\u001b[0m\u001b[1;32m    177\u001b[0m     )\n\u001b[1;32m    178\u001b[0m \u001b[0;34m\u001b[0m\u001b[0m\n",
            "\u001b[0;32m/usr/local/lib/python3.6/dist-packages/pandas_gbq/gbq.py\u001b[0m in \u001b[0;36mread_gbq\u001b[0;34m(query, project_id, index_col, col_order, reauth, auth_local_webserver, dialect, location, configuration, credentials, use_bqstorage_api, verbose, private_key)\u001b[0m\n\u001b[1;32m    970\u001b[0m     )\n\u001b[1;32m    971\u001b[0m \u001b[0;34m\u001b[0m\u001b[0m\n\u001b[0;32m--> 972\u001b[0;31m     \u001b[0mfinal_df\u001b[0m \u001b[0;34m=\u001b[0m \u001b[0mconnector\u001b[0m\u001b[0;34m.\u001b[0m\u001b[0mrun_query\u001b[0m\u001b[0;34m(\u001b[0m\u001b[0mquery\u001b[0m\u001b[0;34m,\u001b[0m \u001b[0mconfiguration\u001b[0m\u001b[0;34m=\u001b[0m\u001b[0mconfiguration\u001b[0m\u001b[0;34m)\u001b[0m\u001b[0;34m\u001b[0m\u001b[0;34m\u001b[0m\u001b[0m\n\u001b[0m\u001b[1;32m    973\u001b[0m \u001b[0;34m\u001b[0m\u001b[0m\n\u001b[1;32m    974\u001b[0m     \u001b[0;31m# Reindex the DataFrame on the provided column\u001b[0m\u001b[0;34m\u001b[0m\u001b[0;34m\u001b[0m\u001b[0;34m\u001b[0m\u001b[0m\n",
            "\u001b[0;32m/usr/local/lib/python3.6/dist-packages/pandas_gbq/gbq.py\u001b[0m in \u001b[0;36mrun_query\u001b[0;34m(self, query, **kwargs)\u001b[0m\n\u001b[1;32m    530\u001b[0m             \u001b[0mrows_iter\u001b[0m \u001b[0;34m=\u001b[0m \u001b[0mquery_reply\u001b[0m\u001b[0;34m.\u001b[0m\u001b[0mresult\u001b[0m\u001b[0;34m(\u001b[0m\u001b[0;34m)\u001b[0m\u001b[0;34m\u001b[0m\u001b[0;34m\u001b[0m\u001b[0m\n\u001b[1;32m    531\u001b[0m         \u001b[0;32mexcept\u001b[0m \u001b[0mself\u001b[0m\u001b[0;34m.\u001b[0m\u001b[0mhttp_error\u001b[0m \u001b[0;32mas\u001b[0m \u001b[0mex\u001b[0m\u001b[0;34m:\u001b[0m\u001b[0;34m\u001b[0m\u001b[0;34m\u001b[0m\u001b[0m\n\u001b[0;32m--> 532\u001b[0;31m             \u001b[0mself\u001b[0m\u001b[0;34m.\u001b[0m\u001b[0mprocess_http_error\u001b[0m\u001b[0;34m(\u001b[0m\u001b[0mex\u001b[0m\u001b[0;34m)\u001b[0m\u001b[0;34m\u001b[0m\u001b[0;34m\u001b[0m\u001b[0m\n\u001b[0m\u001b[1;32m    533\u001b[0m \u001b[0;34m\u001b[0m\u001b[0m\n\u001b[1;32m    534\u001b[0m         \u001b[0mschema_fields\u001b[0m \u001b[0;34m=\u001b[0m \u001b[0;34m[\u001b[0m\u001b[0mfield\u001b[0m\u001b[0;34m.\u001b[0m\u001b[0mto_api_repr\u001b[0m\u001b[0;34m(\u001b[0m\u001b[0;34m)\u001b[0m \u001b[0;32mfor\u001b[0m \u001b[0mfield\u001b[0m \u001b[0;32min\u001b[0m \u001b[0mrows_iter\u001b[0m\u001b[0;34m.\u001b[0m\u001b[0mschema\u001b[0m\u001b[0;34m]\u001b[0m\u001b[0;34m\u001b[0m\u001b[0;34m\u001b[0m\u001b[0m\n",
            "\u001b[0;32m/usr/local/lib/python3.6/dist-packages/pandas_gbq/gbq.py\u001b[0m in \u001b[0;36mprocess_http_error\u001b[0;34m(ex)\u001b[0m\n\u001b[1;32m    435\u001b[0m         \u001b[0;31m# <https://cloud.google.com/bigquery/troubleshooting-errors>`__\u001b[0m\u001b[0;34m\u001b[0m\u001b[0;34m\u001b[0m\u001b[0;34m\u001b[0m\u001b[0m\n\u001b[1;32m    436\u001b[0m \u001b[0;34m\u001b[0m\u001b[0m\n\u001b[0;32m--> 437\u001b[0;31m         \u001b[0;32mraise\u001b[0m \u001b[0mGenericGBQException\u001b[0m\u001b[0;34m(\u001b[0m\u001b[0;34m\"Reason: {0}\"\u001b[0m\u001b[0;34m.\u001b[0m\u001b[0mformat\u001b[0m\u001b[0;34m(\u001b[0m\u001b[0mex\u001b[0m\u001b[0;34m)\u001b[0m\u001b[0;34m)\u001b[0m\u001b[0;34m\u001b[0m\u001b[0;34m\u001b[0m\u001b[0m\n\u001b[0m\u001b[1;32m    438\u001b[0m \u001b[0;34m\u001b[0m\u001b[0m\n\u001b[1;32m    439\u001b[0m     \u001b[0;32mdef\u001b[0m \u001b[0mrun_query\u001b[0m\u001b[0;34m(\u001b[0m\u001b[0mself\u001b[0m\u001b[0;34m,\u001b[0m \u001b[0mquery\u001b[0m\u001b[0;34m,\u001b[0m \u001b[0;34m**\u001b[0m\u001b[0mkwargs\u001b[0m\u001b[0;34m)\u001b[0m\u001b[0;34m:\u001b[0m\u001b[0;34m\u001b[0m\u001b[0;34m\u001b[0m\u001b[0m\n",
            "\u001b[0;31mGenericGBQException\u001b[0m: Reason: 403 Access Denied: Table amsterdamumcdb-data:amsterdamumcdb_v_1_0_1.numericitems: User does not have permission to query table amsterdamumcdb-data:amsterdamumcdb_v_1_0_1.numericitems.\n\n(job ID: 8ac9f318-5d23-4f1a-97c5-6152ca20e676)\n\n                                                                                                                                                                                                                                                                                                                   -----Query Job SQL Follows-----                                                                                                                                                                                                                                                                                                                   \n\n    |    .    |    .    |    .    |    .    |    .    |    .    |    .    |    .    |    .    |    .    |    .    |    .    |    .    |    .    |    .    |    .    |    .    |    .    |    .    |    .    |    .    |    .    |    .    |    .    |    .    |    .    |    .    |    .    |    .    |    .    |    .    |    .    |    .    |    .    |    .    |    .    |    .    |    .    |    .    |    .    |    .    |    .    |    .    |    .    |    .    |    .    |    .    |    .    |    .    |    .    |    .    |    .    |    .    |    .    |    .    |    .    |    .    |    .    |    .    |    .    |    .    |    .    |    .    |    .    |\n   1:SELECT itemid, item, value, islabresult FROM `amsterdamumcdb-data.amsterdamumcdb_v_1_0_1.numericitems` as NU WHERE itemid in (11893, 11894, 11944, 11978, 11986, 11990, 11998, 12071, 12266, 12279, 12310, 12311, 12442, 13058, 13059, 13060, 13061, 13062, 13063, 13952, 16110, 17982, 6640, 6641, 6642, 6643, 6678, 6679, 6699, 6709, 6789, 6801, 6807, 6810, 6817, 6819, 6850, 8621, 8658, 8659, 8662, 8842, 8843, 8873, 8915, 9558, 9559, 9560, 9561, 9653, 9924, 9927, 9930, 9933, 9935, 9941, 9943, 9945, 9947, 9952, 9960, 9964, 9965, 9975, 9990, 9992, 9993, 9994, 9995, 9996, 10053, 10079, 10267, 10286, 11425, 1154) and islabresult = 1 limit 50000\n    |    .    |    .    |    .    |    .    |    .    |    .    |    .    |    .    |    .    |    .    |    .    |    .    |    .    |    .    |    .    |    .    |    .    |    .    |    .    |    .    |    .    |    .    |    .    |    .    |    .    |    .    |    .    |    .    |    .    |    .    |    .    |    .    |    .    |    .    |    .    |    .    |    .    |    .    |    .    |    .    |    .    |    .    |    .    |    .    |    .    |    .    |    .    |    .    |    .    |    .    |    .    |    .    |    .    |    .    |    .    |    .    |    .    |    .    |    .    |    .    |    .    |    .    |    .    |    .    |"
          ]
        }
      ]
    },
    {
      "cell_type": "markdown",
      "metadata": {
        "id": "-CiNmMZXXD39",
        "colab_type": "text"
      },
      "source": [
        "## Begin comparison"
      ]
    },
    {
      "cell_type": "code",
      "metadata": {
        "id": "VvnbPYiE-ens",
        "colab_type": "code",
        "outputId": "b64020e0-20ca-41c1-f701-04bad16604fc",
        "colab": {
          "base_uri": "https://localhost:8080/",
          "height": 357
        }
      },
      "source": [
        "!pip install googletrans\n",
        "!pip install fuzzywuzzy\n",
        "from fuzzywuzzy import fuzz\n",
        "from googletrans import Translator\n",
        "from scipy.stats import ttest_ind\n",
        "import regex as re"
      ],
      "execution_count": 0,
      "outputs": [
        {
          "output_type": "stream",
          "text": [
            "Collecting googletrans\n",
            "  Downloading https://files.pythonhosted.org/packages/fd/f0/a22d41d3846d1f46a4f20086141e0428ccc9c6d644aacbfd30990cf46886/googletrans-2.4.0.tar.gz\n",
            "Requirement already satisfied: requests in /usr/local/lib/python3.6/dist-packages (from googletrans) (2.21.0)\n",
            "Requirement already satisfied: certifi>=2017.4.17 in /usr/local/lib/python3.6/dist-packages (from requests->googletrans) (2019.11.28)\n",
            "Requirement already satisfied: urllib3<1.25,>=1.21.1 in /usr/local/lib/python3.6/dist-packages (from requests->googletrans) (1.24.3)\n",
            "Requirement already satisfied: idna<2.9,>=2.5 in /usr/local/lib/python3.6/dist-packages (from requests->googletrans) (2.8)\n",
            "Requirement already satisfied: chardet<3.1.0,>=3.0.2 in /usr/local/lib/python3.6/dist-packages (from requests->googletrans) (3.0.4)\n",
            "Building wheels for collected packages: googletrans\n",
            "  Building wheel for googletrans (setup.py) ... \u001b[?25l\u001b[?25hdone\n",
            "  Created wheel for googletrans: filename=googletrans-2.4.0-cp36-none-any.whl size=15777 sha256=9c65c1ffcf50d43c18e01e1bfc45c293f2860a5fe00e4ae9701c3b6dfa1bbae2\n",
            "  Stored in directory: /root/.cache/pip/wheels/50/d6/e7/a8efd5f2427d5eb258070048718fa56ee5ac57fd6f53505f95\n",
            "Successfully built googletrans\n",
            "Installing collected packages: googletrans\n",
            "Successfully installed googletrans-2.4.0\n",
            "Collecting fuzzywuzzy\n",
            "  Downloading https://files.pythonhosted.org/packages/d8/f1/5a267addb30ab7eaa1beab2b9323073815da4551076554ecc890a3595ec9/fuzzywuzzy-0.17.0-py2.py3-none-any.whl\n",
            "Installing collected packages: fuzzywuzzy\n",
            "Successfully installed fuzzywuzzy-0.17.0\n"
          ],
          "name": "stdout"
        },
        {
          "output_type": "stream",
          "text": [
            "/usr/local/lib/python3.6/dist-packages/fuzzywuzzy/fuzz.py:11: UserWarning: Using slow pure-python SequenceMatcher. Install python-Levenshtein to remove this warning\n",
            "  warnings.warn('Using slow pure-python SequenceMatcher. Install python-Levenshtein to remove this warning')\n"
          ],
          "name": "stderr"
        }
      ]
    },
    {
      "cell_type": "code",
      "metadata": {
        "id": "eNvApLCvQPqF",
        "colab_type": "code",
        "outputId": "c4a52eb6-8f14-4b42-f82f-1705a1d3b6b5",
        "colab": {
          "base_uri": "https://localhost:8080/",
          "height": 537
        }
      },
      "source": [
        "english_labels = labevents_mimic['clean_label'].unique()\n",
        "print(english_labels)\n",
        "labevents_icv['item'].unique()"
      ],
      "execution_count": 0,
      "outputs": [
        {
          "output_type": "stream",
          "text": [
            "['Red blood cell count (ascites)' 'pH' 'Albumin (ascites)' 'Monocytes'\n",
            " 'Lymphocytes (atypical)' 'Lymphocytes (absolute)' 'Albumin (pleural)'\n",
            " 'Albumin (urine)' 'Lymphocytes (percent)' 'Lymphocytes'\n",
            " 'Lactate dehydrogenase' 'Chloride (pleural)'\n",
            " 'Red blood cell count (other fluid)' 'White blood cell count'\n",
            " 'Bicarbonate (whole blood)' 'Red blood cell count (CSF)'\n",
            " 'Red blood cell count (pleural)' 'Bilirubin (total, pleural)'\n",
            " 'Creatinine' 'Cholesterol (LDL)' 'Bicarbonate (urine)'\n",
            " 'Cholesterol (pleural)' 'Creatinine (pleural)' 'Calcium (urine)'\n",
            " 'Creatinine (body fluid)' 'Creatinine (ascites)' 'Creatinine (serum)'\n",
            " 'Bilirubin (blody fluid)' 'Chloride (body fluid)'\n",
            " 'Bilirubin (total, ascites)' 'Eosinophils'\n",
            " 'Red blood cell count (joint fluid)' 'Creatinine (urine)'\n",
            " 'Albumin (body fluid)' 'Hemoglobin' 'Calcium (body fluid)'\n",
            " 'Creatinine clearance' 'Chloride (ascites)' 'Calcium' 'Chloride (stool)'\n",
            " 'Bilirubin (CSF)' 'Glucose' 'Red blood cell count' 'Troponin-I'\n",
            " 'Troponin-T' 'Chloride (whole blood)' 'Hematocrit'\n",
            " 'Positive end-expiratory pressure' 'Chloride (urine)'\n",
            " 'Sodium (whole blood)' 'Bilirubin (conjugated)'\n",
            " 'Bilirubin (unconjugated)' 'Cholesterol (HDL)' 'Cholesterol (total)']\n"
          ],
          "name": "stdout"
        },
        {
          "output_type": "error",
          "ename": "NameError",
          "evalue": "ignored",
          "traceback": [
            "\u001b[0;31m---------------------------------------------------------------------------\u001b[0m",
            "\u001b[0;31mNameError\u001b[0m                                 Traceback (most recent call last)",
            "\u001b[0;32m<ipython-input-10-be1b1c06f03a>\u001b[0m in \u001b[0;36m<module>\u001b[0;34m()\u001b[0m\n\u001b[1;32m      1\u001b[0m \u001b[0menglish_labels\u001b[0m \u001b[0;34m=\u001b[0m \u001b[0mlabevents_mimic\u001b[0m\u001b[0;34m[\u001b[0m\u001b[0;34m'clean_label'\u001b[0m\u001b[0;34m]\u001b[0m\u001b[0;34m.\u001b[0m\u001b[0munique\u001b[0m\u001b[0;34m(\u001b[0m\u001b[0;34m)\u001b[0m\u001b[0;34m\u001b[0m\u001b[0;34m\u001b[0m\u001b[0m\n\u001b[1;32m      2\u001b[0m \u001b[0mprint\u001b[0m\u001b[0;34m(\u001b[0m\u001b[0menglish_labels\u001b[0m\u001b[0;34m)\u001b[0m\u001b[0;34m\u001b[0m\u001b[0;34m\u001b[0m\u001b[0m\n\u001b[0;32m----> 3\u001b[0;31m \u001b[0mlabevents_icv\u001b[0m\u001b[0;34m[\u001b[0m\u001b[0;34m'item'\u001b[0m\u001b[0;34m]\u001b[0m\u001b[0;34m.\u001b[0m\u001b[0munique\u001b[0m\u001b[0;34m(\u001b[0m\u001b[0;34m)\u001b[0m\u001b[0;34m\u001b[0m\u001b[0;34m\u001b[0m\u001b[0m\n\u001b[0m",
            "\u001b[0;31mNameError\u001b[0m: name 'labevents_icv' is not defined"
          ]
        }
      ]
    },
    {
      "cell_type": "code",
      "metadata": {
        "id": "ruHQx70IkeNp",
        "colab_type": "code",
        "colab": {}
      },
      "source": [
        "translator = Translator()\n",
        "\n",
        "\n",
        "def clean(str):\n",
        "    return re.sub(r\"[(),.;@#?!&$]+\\ *\", \" \", str)\n",
        "\n",
        "\n",
        "def str_similarity(str1, str2):\n",
        "    if str1 == str2:\n",
        "        return 1\n",
        "    else:\n",
        "        return 0\n",
        "\n",
        "\n",
        "def str_similarity2(str1, str2):\n",
        "    return fuzz.token_sort_ratio(str1, str2)\n",
        "\n",
        "\n",
        "def dist_similarity(dist1, dist2):\n",
        "    return ttest_ind(dist1.values, dist2.values, equal_var=False)\n",
        "\n",
        "\n",
        "def deg_overlap(x1, x2, y1, y2):\n",
        "    # gives an indication of overlap normalised by the largest range\n",
        "    # can be negative - indicates how far away from overlap we have\n",
        "    return max((min(x2,y2) - max(x1,y1))/max(x2 - x1, y2 - y1), -1)\n",
        "\n",
        "\n",
        "def dist_similarity2(dist1, dist2):\n",
        "    QR1 = dist1.quantile([0.25, 0.75]).values\n",
        "    QR2 = dist2.quantile([0.25, 0.75]).values\n",
        "    return deg_overlap(QR1[0], QR1[1], QR2[0], QR2[1])\n",
        "\n",
        "\n",
        "def compare_dfs(nl_df, en_df):\n",
        "    nl_labels = nl_df['LEVEL1'].unique()\n",
        "    en_labels = en_df['clean_label'].unique()\n",
        "\n",
        "    str_similarity_matrix  = np.zeros((len(nl_labels), len(en_labels)))\n",
        "    dist_similarity_matrix = np.zeros((len(nl_labels), len(en_labels)))\n",
        "\n",
        "    for i, curr_nl_label in enumerate(nl_labels):\n",
        "        nl_df_temp = nl_df.loc[nl_df['LEVEL1']==curr_nl_label]\n",
        "        translated_nl_label = translator.translate(curr_nl_label, src='nl', dest='en').text\n",
        "\n",
        "        for j, curr_en_label in enumerate(en_labels):\n",
        "            en_df_temp = en_df.loc[en_df['clean_label']==curr_en_label]\n",
        "            # t, p = dist_similarity(en_df_temp['valuenum'], nl_df_temp['value'])\n",
        "            p = dist_similarity2(en_df_temp['valuenum'], nl_df_temp['value'])\n",
        "\n",
        "            dist_similarity_matrix[i, j] = p\n",
        "            str_similarity_matrix[i, j] = str_similarity2(translated_nl_label, curr_en_label)\n",
        "\n",
        "    return str_similarity_matrix, dist_similarity_matrix"
      ],
      "execution_count": 0,
      "outputs": []
    },
    {
      "cell_type": "code",
      "metadata": {
        "id": "HQt7EebcaVMU",
        "colab_type": "code",
        "colab": {}
      },
      "source": [
        "str_mat, dist_mat = compare_dfs(labevents_icv, labevents_mimic)\n",
        "# labevents_icv.head()"
      ],
      "execution_count": 0,
      "outputs": []
    },
    {
      "cell_type": "code",
      "metadata": {
        "id": "-BFHz_bPAfWT",
        "colab_type": "code",
        "outputId": "3c5257bb-64d9-45bb-a912-d76b6eb33cac",
        "colab": {
          "base_uri": "https://localhost:8080/",
          "height": 231
        }
      },
      "source": [
        "df = pd.DataFrame(data=str_mat, index=labevents_icv['LEVEL1'].unique(), columns=labevents_mimic['clean_label'].unique())\n",
        "fig, ax = plt.subplots(figsize=(25, 10))\n",
        "im = ax.imshow(df, cmap=plt.cm.rainbow)\n",
        "ax.set_xticks(np.arange(len(labevents_mimic['clean_label'].unique())))\n",
        "ax.set_yticks(np.arange(len(labevents_icv['LEVEL1'].unique())))\n",
        "ax.set_xticklabels(labevents_mimic['clean_label'].unique())\n",
        "ax.set_yticklabels(labevents_icv['LEVEL1'].unique())\n",
        "plt.setp(ax.get_xticklabels(), rotation=45, ha=\"right\", rotation_mode=\"anchor\")\n",
        "fig.colorbar(im, label='Levenshtein distance')"
      ],
      "execution_count": 0,
      "outputs": [
        {
          "output_type": "error",
          "ename": "NameError",
          "evalue": "ignored",
          "traceback": [
            "\u001b[0;31m---------------------------------------------------------------------------\u001b[0m",
            "\u001b[0;31mNameError\u001b[0m                                 Traceback (most recent call last)",
            "\u001b[0;32m<ipython-input-13-321e3f7f066e>\u001b[0m in \u001b[0;36m<module>\u001b[0;34m()\u001b[0m\n\u001b[0;32m----> 1\u001b[0;31m \u001b[0mdf\u001b[0m \u001b[0;34m=\u001b[0m \u001b[0mpd\u001b[0m\u001b[0;34m.\u001b[0m\u001b[0mDataFrame\u001b[0m\u001b[0;34m(\u001b[0m\u001b[0mdata\u001b[0m\u001b[0;34m=\u001b[0m\u001b[0mstr_mat\u001b[0m\u001b[0;34m,\u001b[0m \u001b[0mindex\u001b[0m\u001b[0;34m=\u001b[0m\u001b[0mlabevents_icv\u001b[0m\u001b[0;34m[\u001b[0m\u001b[0;34m'LEVEL1'\u001b[0m\u001b[0;34m]\u001b[0m\u001b[0;34m.\u001b[0m\u001b[0munique\u001b[0m\u001b[0;34m(\u001b[0m\u001b[0;34m)\u001b[0m\u001b[0;34m,\u001b[0m \u001b[0mcolumns\u001b[0m\u001b[0;34m=\u001b[0m\u001b[0mlabevents_mimic\u001b[0m\u001b[0;34m[\u001b[0m\u001b[0;34m'clean_label'\u001b[0m\u001b[0;34m]\u001b[0m\u001b[0;34m.\u001b[0m\u001b[0munique\u001b[0m\u001b[0;34m(\u001b[0m\u001b[0;34m)\u001b[0m\u001b[0;34m)\u001b[0m\u001b[0;34m\u001b[0m\u001b[0;34m\u001b[0m\u001b[0m\n\u001b[0m\u001b[1;32m      2\u001b[0m \u001b[0mfig\u001b[0m\u001b[0;34m,\u001b[0m \u001b[0max\u001b[0m \u001b[0;34m=\u001b[0m \u001b[0mplt\u001b[0m\u001b[0;34m.\u001b[0m\u001b[0msubplots\u001b[0m\u001b[0;34m(\u001b[0m\u001b[0mfigsize\u001b[0m\u001b[0;34m=\u001b[0m\u001b[0;34m(\u001b[0m\u001b[0;36m25\u001b[0m\u001b[0;34m,\u001b[0m \u001b[0;36m10\u001b[0m\u001b[0;34m)\u001b[0m\u001b[0;34m)\u001b[0m\u001b[0;34m\u001b[0m\u001b[0;34m\u001b[0m\u001b[0m\n\u001b[1;32m      3\u001b[0m \u001b[0mim\u001b[0m \u001b[0;34m=\u001b[0m \u001b[0max\u001b[0m\u001b[0;34m.\u001b[0m\u001b[0mimshow\u001b[0m\u001b[0;34m(\u001b[0m\u001b[0mdf\u001b[0m\u001b[0;34m,\u001b[0m \u001b[0mcmap\u001b[0m\u001b[0;34m=\u001b[0m\u001b[0mplt\u001b[0m\u001b[0;34m.\u001b[0m\u001b[0mcm\u001b[0m\u001b[0;34m.\u001b[0m\u001b[0mrainbow\u001b[0m\u001b[0;34m)\u001b[0m\u001b[0;34m\u001b[0m\u001b[0;34m\u001b[0m\u001b[0m\n\u001b[1;32m      4\u001b[0m \u001b[0max\u001b[0m\u001b[0;34m.\u001b[0m\u001b[0mset_xticks\u001b[0m\u001b[0;34m(\u001b[0m\u001b[0mnp\u001b[0m\u001b[0;34m.\u001b[0m\u001b[0marange\u001b[0m\u001b[0;34m(\u001b[0m\u001b[0mlen\u001b[0m\u001b[0;34m(\u001b[0m\u001b[0mlabevents_mimic\u001b[0m\u001b[0;34m[\u001b[0m\u001b[0;34m'clean_label'\u001b[0m\u001b[0;34m]\u001b[0m\u001b[0;34m.\u001b[0m\u001b[0munique\u001b[0m\u001b[0;34m(\u001b[0m\u001b[0;34m)\u001b[0m\u001b[0;34m)\u001b[0m\u001b[0;34m)\u001b[0m\u001b[0;34m)\u001b[0m\u001b[0;34m\u001b[0m\u001b[0;34m\u001b[0m\u001b[0m\n\u001b[1;32m      5\u001b[0m \u001b[0max\u001b[0m\u001b[0;34m.\u001b[0m\u001b[0mset_yticks\u001b[0m\u001b[0;34m(\u001b[0m\u001b[0mnp\u001b[0m\u001b[0;34m.\u001b[0m\u001b[0marange\u001b[0m\u001b[0;34m(\u001b[0m\u001b[0mlen\u001b[0m\u001b[0;34m(\u001b[0m\u001b[0mlabevents_icv\u001b[0m\u001b[0;34m[\u001b[0m\u001b[0;34m'LEVEL1'\u001b[0m\u001b[0;34m]\u001b[0m\u001b[0;34m.\u001b[0m\u001b[0munique\u001b[0m\u001b[0;34m(\u001b[0m\u001b[0;34m)\u001b[0m\u001b[0;34m)\u001b[0m\u001b[0;34m)\u001b[0m\u001b[0;34m)\u001b[0m\u001b[0;34m\u001b[0m\u001b[0;34m\u001b[0m\u001b[0m\n",
            "\u001b[0;31mNameError\u001b[0m: name 'str_mat' is not defined"
          ]
        }
      ]
    },
    {
      "cell_type": "code",
      "metadata": {
        "id": "ryOyqos6qetK",
        "colab_type": "code",
        "outputId": "da2808f0-ee57-4560-a6a0-2e4b035f68c4",
        "colab": {
          "base_uri": "https://localhost:8080/",
          "height": 869
        }
      },
      "source": [
        "df = pd.DataFrame(data=dist_mat, index=labevents_icv['LEVEL1'].unique(), columns=labevents_mimic['clean_label'].unique())\n",
        "fig, ax = plt.subplots(figsize=(15, 15))\n",
        "im = ax.imshow(df)\n",
        "ax.set_xticks(np.arange(len(labevents_mimic['clean_label'].unique())))\n",
        "ax.set_yticks(np.arange(len(labevents_icv['LEVEL1'].unique())))\n",
        "ax.set_xticklabels(labevents_mimic['clean_label'].unique())\n",
        "ax.set_yticklabels(labevents_icv['LEVEL1'].unique())\n",
        "plt.setp(ax.get_xticklabels(), rotation=45, ha=\"right\", rotation_mode=\"anchor\")\n",
        "fig.colorbar(im)"
      ],
      "execution_count": 0,
      "outputs": [
        {
          "output_type": "execute_result",
          "data": {
            "text/plain": [
              "<matplotlib.colorbar.Colorbar at 0x7fb559eec240>"
            ]
          },
          "metadata": {
            "tags": []
          },
          "execution_count": 149
        },
        {
          "output_type": "display_data",
          "data": {
            "image/png": "[encoded data removed]",
            "text/plain": [
              "<Figure size 1080x1080 with 2 Axes>"
            ]
          },
          "metadata": {
            "tags": []
          }
        }
      ]
    },
    {
      "cell_type": "code",
      "metadata": {
        "id": "beWOAvcuGYzq",
        "colab_type": "code",
        "outputId": "47fcdfde-3cc4-4dc3-ea04-d2ab403d57fe",
        "colab": {
          "base_uri": "https://localhost:8080/",
          "height": 214
        }
      },
      "source": [
        "# import numpy as np\n",
        "nl_inds, en_inds = np.where((str_mat > 80)==1)\n",
        "print(nl_inds)\n",
        "for i, j in zip(nl_inds, en_inds):\n",
        "  print(str_mat[i, j], labevents_icv['item'].unique()[i], '----->', labevents_mimic['clean_label'].unique()[-j])"
      ],
      "execution_count": 0,
      "outputs": [
        {
          "output_type": "error",
          "ename": "NameError",
          "evalue": "ignored",
          "traceback": [
            "\u001b[0;31m---------------------------------------------------------------------------\u001b[0m",
            "\u001b[0;31mNameError\u001b[0m                                 Traceback (most recent call last)",
            "\u001b[0;32m<ipython-input-14-eee6404820e2>\u001b[0m in \u001b[0;36m<module>\u001b[0;34m()\u001b[0m\n\u001b[0;32m----> 1\u001b[0;31m \u001b[0mnl_inds\u001b[0m\u001b[0;34m,\u001b[0m \u001b[0men_inds\u001b[0m \u001b[0;34m=\u001b[0m \u001b[0mnp\u001b[0m\u001b[0;34m.\u001b[0m\u001b[0mwhere\u001b[0m\u001b[0;34m(\u001b[0m\u001b[0;34m(\u001b[0m\u001b[0mstr_mat\u001b[0m \u001b[0;34m>\u001b[0m \u001b[0;36m80\u001b[0m\u001b[0;34m)\u001b[0m\u001b[0;34m==\u001b[0m\u001b[0;36m1\u001b[0m\u001b[0;34m)\u001b[0m\u001b[0;34m\u001b[0m\u001b[0;34m\u001b[0m\u001b[0m\n\u001b[0m\u001b[1;32m      2\u001b[0m \u001b[0mprint\u001b[0m\u001b[0;34m(\u001b[0m\u001b[0mnl_inds\u001b[0m\u001b[0;34m)\u001b[0m\u001b[0;34m\u001b[0m\u001b[0;34m\u001b[0m\u001b[0m\n\u001b[1;32m      3\u001b[0m \u001b[0;32mfor\u001b[0m \u001b[0mi\u001b[0m\u001b[0;34m,\u001b[0m \u001b[0mj\u001b[0m \u001b[0;32min\u001b[0m \u001b[0mzip\u001b[0m\u001b[0;34m(\u001b[0m\u001b[0mnl_inds\u001b[0m\u001b[0;34m,\u001b[0m \u001b[0men_inds\u001b[0m\u001b[0;34m)\u001b[0m\u001b[0;34m:\u001b[0m\u001b[0;34m\u001b[0m\u001b[0;34m\u001b[0m\u001b[0m\n\u001b[1;32m      4\u001b[0m   \u001b[0mprint\u001b[0m\u001b[0;34m(\u001b[0m\u001b[0mstr_mat\u001b[0m\u001b[0;34m[\u001b[0m\u001b[0mi\u001b[0m\u001b[0;34m,\u001b[0m \u001b[0mj\u001b[0m\u001b[0;34m]\u001b[0m\u001b[0;34m,\u001b[0m \u001b[0mlabevents_icv\u001b[0m\u001b[0;34m[\u001b[0m\u001b[0;34m'item'\u001b[0m\u001b[0;34m]\u001b[0m\u001b[0;34m.\u001b[0m\u001b[0munique\u001b[0m\u001b[0;34m(\u001b[0m\u001b[0;34m)\u001b[0m\u001b[0;34m[\u001b[0m\u001b[0mi\u001b[0m\u001b[0;34m]\u001b[0m\u001b[0;34m,\u001b[0m \u001b[0;34m'----->'\u001b[0m\u001b[0;34m,\u001b[0m \u001b[0mlabevents_mimic\u001b[0m\u001b[0;34m[\u001b[0m\u001b[0;34m'clean_label'\u001b[0m\u001b[0;34m]\u001b[0m\u001b[0;34m.\u001b[0m\u001b[0munique\u001b[0m\u001b[0;34m(\u001b[0m\u001b[0;34m)\u001b[0m\u001b[0;34m[\u001b[0m\u001b[0;34m-\u001b[0m\u001b[0mj\u001b[0m\u001b[0;34m]\u001b[0m\u001b[0;34m)\u001b[0m\u001b[0;34m\u001b[0m\u001b[0;34m\u001b[0m\u001b[0m\n",
            "\u001b[0;31mNameError\u001b[0m: name 'str_mat' is not defined"
          ]
        }
      ]
    },
    {
      "cell_type": "code",
      "metadata": {
        "id": "I9nspeGnrV0m",
        "colab_type": "code",
        "outputId": "226dbf0f-26ae-4d95-ff14-9c9b88684bb0",
        "colab": {
          "base_uri": "https://localhost:8080/",
          "height": 298
        }
      },
      "source": [
        "labevents_icv.loc[(labevents_icv['LEVEL1']=='PH') & (labevents_icv['value']<8)]['value'].hist(bins=50, alpha=0.5)\n",
        "labevents_mimic.loc[labevents_mimic['clean_label']=='pH']['valuenum'].hist(bins=100, alpha=0.5)\n",
        "plt.title('Amsterdam pH works')"
      ],
      "execution_count": 0,
      "outputs": [
        {
          "output_type": "execute_result",
          "data": {
            "text/plain": [
              "Text(0.5, 1.0, 'Amsterdam pH works')"
            ]
          },
          "metadata": {
            "tags": []
          },
          "execution_count": 151
        },
        {
          "output_type": "display_data",
          "data": {
            "image/png": "[encoded data removed]",
            "text/plain": [
              "<Figure size 432x288 with 1 Axes>"
            ]
          },
          "metadata": {
            "tags": []
          }
        }
      ]
    },
    {
      "cell_type": "code",
      "metadata": {
        "id": "1pMIihJIrozG",
        "colab_type": "code",
        "outputId": "63f6d6fb-39dc-4c44-985d-2cf2d76a3b38",
        "colab": {
          "base_uri": "https://localhost:8080/",
          "height": 298
        }
      },
      "source": [
        "labevents_mimic.loc[labevents_mimic['clean_label']=='pH']['valuenum'].hist(bins=100)\n",
        "plt.title('MIMIC-III PH works less well...')"
      ],
      "execution_count": 0,
      "outputs": [
        {
          "output_type": "execute_result",
          "data": {
            "text/plain": [
              "Text(0.5, 1.0, 'MIMIC-III PH works less well...')"
            ]
          },
          "metadata": {
            "tags": []
          },
          "execution_count": 152
        },
        {
          "output_type": "display_data",
          "data": {
            "image/png": "[encoded data removed]",
            "text/plain": [
              "<Figure size 432x288 with 1 Axes>"
            ]
          },
          "metadata": {
            "tags": []
          }
        }
      ]
    },
    {
      "cell_type": "code",
      "metadata": {
        "id": "heAjYv-BQRNE",
        "colab_type": "code",
        "outputId": "642de8df-bec0-4dbb-9ba2-17c84c4f5504",
        "colab": {
          "base_uri": "https://localhost:8080/",
          "height": 282
        }
      },
      "source": [
        "labevents_icv.loc[(labevents_icv['LEVEL1']=='Chloor')]['value'].hist(bins=50, alpha=0.5)\n",
        "labevents_mimic.loc[labevents_mimic['clean_label']=='Chloride (whole blood)']['valuenum'].hist(bins=100, alpha=0.5)"
      ],
      "execution_count": 0,
      "outputs": [
        {
          "output_type": "execute_result",
          "data": {
            "text/plain": [
              "<matplotlib.axes._subplots.AxesSubplot at 0x7fb559a5e630>"
            ]
          },
          "metadata": {
            "tags": []
          },
          "execution_count": 153
        },
        {
          "output_type": "display_data",
          "data": {
            "image/png": "[encoded data removed]",
            "text/plain": [
              "<Figure size 432x288 with 1 Axes>"
            ]
          },
          "metadata": {
            "tags": []
          }
        }
      ]
    },
    {
      "cell_type": "code",
      "metadata": {
        "id": "7dzwXLg8NQI3",
        "colab_type": "code",
        "outputId": "a2684fb8-0ad5-4179-e8e8-13e03308c65f",
        "colab": {
          "base_uri": "https://localhost:8080/",
          "height": 215
        }
      },
      "source": [
        "import pandas as pd\n",
        "\n",
        "df = pd.DataFrame(data=lang_similarity, index=dutch_test, columns=english_test)\n",
        "plt.pcolor(df)"
      ],
      "execution_count": 0,
      "outputs": [
        {
          "output_type": "error",
          "ename": "NameError",
          "evalue": "ignored",
          "traceback": [
            "\u001b[0;31m---------------------------------------------------------------------------\u001b[0m",
            "\u001b[0;31mNameError\u001b[0m                                 Traceback (most recent call last)",
            "\u001b[0;32m<ipython-input-154-93f3a46a2f98>\u001b[0m in \u001b[0;36m<module>\u001b[0;34m()\u001b[0m\n\u001b[1;32m      1\u001b[0m \u001b[0;32mimport\u001b[0m \u001b[0mpandas\u001b[0m \u001b[0;32mas\u001b[0m \u001b[0mpd\u001b[0m\u001b[0;34m\u001b[0m\u001b[0;34m\u001b[0m\u001b[0m\n\u001b[1;32m      2\u001b[0m \u001b[0;34m\u001b[0m\u001b[0m\n\u001b[0;32m----> 3\u001b[0;31m \u001b[0mdf\u001b[0m \u001b[0;34m=\u001b[0m \u001b[0mpd\u001b[0m\u001b[0;34m.\u001b[0m\u001b[0mDataFrame\u001b[0m\u001b[0;34m(\u001b[0m\u001b[0mdata\u001b[0m\u001b[0;34m=\u001b[0m\u001b[0mlang_similarity\u001b[0m\u001b[0;34m,\u001b[0m \u001b[0mindex\u001b[0m\u001b[0;34m=\u001b[0m\u001b[0mdutch_test\u001b[0m\u001b[0;34m,\u001b[0m \u001b[0mcolumns\u001b[0m\u001b[0;34m=\u001b[0m\u001b[0menglish_test\u001b[0m\u001b[0;34m)\u001b[0m\u001b[0;34m\u001b[0m\u001b[0;34m\u001b[0m\u001b[0m\n\u001b[0m\u001b[1;32m      4\u001b[0m \u001b[0mplt\u001b[0m\u001b[0;34m.\u001b[0m\u001b[0mpcolor\u001b[0m\u001b[0;34m(\u001b[0m\u001b[0mdf\u001b[0m\u001b[0;34m)\u001b[0m\u001b[0;34m\u001b[0m\u001b[0;34m\u001b[0m\u001b[0m\n",
            "\u001b[0;31mNameError\u001b[0m: name 'lang_similarity' is not defined"
          ]
        }
      ]
    },
    {
      "cell_type": "code",
      "metadata": {
        "id": "YlQqbf6Wmqkm",
        "colab_type": "code",
        "outputId": "99fd7f3d-02d3-4295-c1b4-bafa80c4b45e",
        "colab": {
          "base_uri": "https://localhost:8080/",
          "height": 187
        }
      },
      "source": [
        "!pip install emoji --upgrade"
      ],
      "execution_count": 0,
      "outputs": [
        {
          "output_type": "stream",
          "text": [
            "Collecting emoji\n",
            "\u001b[?25l  Downloading https://files.pythonhosted.org/packages/40/8d/521be7f0091fe0f2ae690cc044faf43e3445e0ff33c574eae752dd7e39fa/emoji-0.5.4.tar.gz (43kB)\n",
            "\r\u001b[K     |███████▌                        | 10kB 15.7MB/s eta 0:00:01\r\u001b[K     |███████████████                 | 20kB 1.7MB/s eta 0:00:01\r\u001b[K     |██████████████████████▋         | 30kB 2.4MB/s eta 0:00:01\r\u001b[K     |██████████████████████████████▏ | 40kB 1.6MB/s eta 0:00:01\r\u001b[K     |████████████████████████████████| 51kB 1.6MB/s \n",
            "\u001b[?25hBuilding wheels for collected packages: emoji\n",
            "  Building wheel for emoji (setup.py) ... \u001b[?25l\u001b[?25hdone\n",
            "  Created wheel for emoji: filename=emoji-0.5.4-cp36-none-any.whl size=42176 sha256=3cf402d993f3790865a4c6e0e49cafbeafb3fbe9f0f81ec529f103fa7615329f\n",
            "  Stored in directory: /root/.cache/pip/wheels/2a/a9/0a/4f8e8cce8074232aba240caca3fade315bb49fac68808d1a9c\n",
            "Successfully built emoji\n",
            "Installing collected packages: emoji\n",
            "Successfully installed emoji-0.5.4\n"
          ],
          "name": "stdout"
        }
      ]
    },
    {
      "cell_type": "code",
      "metadata": {
        "id": "jNpP-P5nZEda",
        "colab_type": "code",
        "outputId": "6f14e718-ec47-43e4-d93f-28d3a2c78aea",
        "colab": {
          "base_uri": "https://localhost:8080/",
          "height": 197
        }
      },
      "source": [
        "import emoji\n",
        "\n",
        "# write a generator which yields the most likely matches first\n",
        "def likely_matches_gen(str_mat):\n",
        "    # sort by order of most likely, grab the column and index for that, yield these\n",
        "    while True:\n",
        "        # get largest values\n",
        "        curr_max = np.amax(str_mat)\n",
        "        positions = np.where(str_mat == curr_max)\n",
        "        position = [positions[0][0], positions[1][0]]\n",
        "        yield position\n",
        "        str_mat[position[0], position[1]] = 0\n",
        "\n",
        "def get_valid_response(match):\n",
        "\n",
        "    print(\"\\nIs this a suitable match: \", \", \".join(match))\n",
        "    user_input = input('Confirm? [Y/N] or X to exit: ')\n",
        "\n",
        "  # ... error handling ...\n",
        "    if user_input.lower() not in ('y', 'yes', 'n', 'no', 'x', 'exit'):\n",
        "        print(emoji.emojize('Error: Input \"{}\" unrecognised. Damnit Ari! A yes or no is not that hard... :rage:', use_aliases=True).format(user_input))\n",
        "        return get_valid_response(match)\n",
        "\n",
        "    else:\n",
        "        return user_input\n",
        "\n",
        "def loop_matches_list(str_mat):\n",
        "\n",
        "    matches = []\n",
        "    non_matches = []\n",
        "\n",
        "    mimic_vars = labevents_icv['LEVEL1'].unique()\n",
        "    ams_vars = labevents_mimic['clean_label'].unique()\n",
        "    match_gen = likely_matches_gen(str_mat)\n",
        "\n",
        "    while True:\n",
        "        match_ind = next(match_gen)\n",
        "        match = [mimic_vars[match_ind[0]], ams_vars[match_ind[1]]]\n",
        "\n",
        "        user_input = get_valid_response(match)\n",
        " \n",
        "        if user_input.lower() in ('y', 'yes'):\n",
        "           matches.append(match)\n",
        "        elif user_input.lower() in ('n', 'no'):\n",
        "           non_matches.append(match)\n",
        "        else:  # if the user exits\n",
        "            please_statement = input(emoji.emojize('Now you gotta say please... :information_desk_person::', use_aliases=True))\n",
        "            if please_statement.lower() == 'please':\n",
        "                print(emoji.emojize('Brexit means Brexit :wave:', use_aliases=True))\n",
        "                return matches, non_matches\n",
        "            else: \n",
        "                print(emoji.emojize('Fine be like that :cry:', use_aliases=True))\n",
        "                return matches, non_matches\n",
        "\n",
        "    return matches, non_matches\n",
        "  \n",
        "matches, non_matches = loop_matches_list(str_mat)"
      ],
      "execution_count": 0,
      "outputs": [
        {
          "output_type": "error",
          "ename": "NameError",
          "evalue": "ignored",
          "traceback": [
            "\u001b[0;31m---------------------------------------------------------------------------\u001b[0m",
            "\u001b[0;31mNameError\u001b[0m                                 Traceback (most recent call last)",
            "\u001b[0;32m<ipython-input-16-5fb913141a7b>\u001b[0m in \u001b[0;36m<module>\u001b[0;34m()\u001b[0m\n\u001b[1;32m     55\u001b[0m     \u001b[0;32mreturn\u001b[0m \u001b[0mmatches\u001b[0m\u001b[0;34m,\u001b[0m \u001b[0mnon_matches\u001b[0m\u001b[0;34m\u001b[0m\u001b[0;34m\u001b[0m\u001b[0m\n\u001b[1;32m     56\u001b[0m \u001b[0;34m\u001b[0m\u001b[0m\n\u001b[0;32m---> 57\u001b[0;31m \u001b[0mmatches\u001b[0m\u001b[0;34m,\u001b[0m \u001b[0mnon_matches\u001b[0m \u001b[0;34m=\u001b[0m \u001b[0mloop_matches_list\u001b[0m\u001b[0;34m(\u001b[0m\u001b[0mstr_mat\u001b[0m\u001b[0;34m)\u001b[0m\u001b[0;34m\u001b[0m\u001b[0;34m\u001b[0m\u001b[0m\n\u001b[0m",
            "\u001b[0;31mNameError\u001b[0m: name 'str_mat' is not defined"
          ]
        }
      ]
    },
    {
      "cell_type": "code",
      "metadata": {
        "id": "paXy5cWehBF5",
        "colab_type": "code",
        "outputId": "57e836f0-be12-4e89-d506-00c8db073986",
        "colab": {
          "base_uri": "https://localhost:8080/",
          "height": 105
        }
      },
      "source": [
        "print('Saved Matches:')\n",
        "print(matches)\n",
        "print('Non Matches:')\n",
        "print(non_matches)"
      ],
      "execution_count": 0,
      "outputs": [
        {
          "output_type": "stream",
          "text": [
            "Saved Matches:\n",
            "[['PH', 'pH'], ['Calcium', 'Calcium'], ['Natrium', 'Sodium'], ['Kalium', 'Potassium'], ['Fosfaat', 'Phosphate'], ['Kreatinine', 'Creatinine'], ['Glucose', 'Glucose'], ['Magnesium', 'Magnesium'], ['Kreatinine', 'Creatinine (serum)']]\n",
            "Non Matches:\n",
            "[['Calcium ion', 'Calcium (urine)'], ['Calcium ion', 'Calcium'], ['Kreatinine', 'Creatinine (urine)']]\n"
          ],
          "name": "stdout"
        }
      ]
    },
    {
      "cell_type": "code",
      "metadata": {
        "id": "WONYvyhssyO4",
        "colab_type": "code",
        "colab": {}
      },
      "source": [
        ""
      ],
      "execution_count": 0,
      "outputs": []
    }
  ]
}